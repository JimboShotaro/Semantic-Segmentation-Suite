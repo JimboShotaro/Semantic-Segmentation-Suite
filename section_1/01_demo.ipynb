{
  "nbformat": 4,
  "nbformat_minor": 0,
  "metadata": {
    "colab": {
      "provenance": [],
      "include_colab_link": true
    },
    "kernelspec": {
      "name": "python3",
      "display_name": "Python 3"
    },
    "language_info": {
      "name": "python"
    }
  },
  "cells": [
    {
      "cell_type": "markdown",
      "metadata": {
        "id": "view-in-github",
        "colab_type": "text"
      },
      "source": [
        "<a href=\"https://colab.research.google.com/github/JimboShotaro/Semantic-Segmentation-Suite/blob/master/section_1/01_demo.ipynb\" target=\"_parent\"><img src=\"https://colab.research.google.com/assets/colab-badge.svg\" alt=\"Open In Colab\"/></a>"
      ]
    },
    {
      "cell_type": "markdown",
      "metadata": {
        "id": "8kW_qXJVTjic"
      },
      "source": [
        "# 最初のStreamlitアプリ\n",
        "タイトルを表示するだけのシンプルなStreamlitアプリを作成し、ngrokを使って動作を確認します。"
      ]
    },
    {
      "cell_type": "markdown",
      "source": [
        "## ●ライブラリのインストール\n",
        "Streamlit、およびアプリの動作の確認に使用する「ngrok」をインストールします。"
      ],
      "metadata": {
        "id": "vRJCuxALcgkb"
      }
    },
    {
      "cell_type": "code",
      "execution_count": 1,
      "metadata": {
        "id": "Pbqipzj3nCy4",
        "outputId": "c40bca6d-09ed-4f8f-dab8-f2c2b76b7506",
        "colab": {
          "base_uri": "https://localhost:8080/"
        }
      },
      "outputs": [
        {
          "output_type": "stream",
          "name": "stdout",
          "text": [
            "\u001b[2K     \u001b[90m━━━━━━━━━━━━━━━━━━━━━━━━━━━━━━━━━━━━━━━━\u001b[0m \u001b[32m44.3/44.3 kB\u001b[0m \u001b[31m2.8 MB/s\u001b[0m eta \u001b[36m0:00:00\u001b[0m\n",
            "\u001b[2K   \u001b[90m━━━━━━━━━━━━━━━━━━━━━━━━━━━━━━━━━━━━━━━━\u001b[0m \u001b[32m9.6/9.6 MB\u001b[0m \u001b[31m21.3 MB/s\u001b[0m eta \u001b[36m0:00:00\u001b[0m\n",
            "\u001b[2K   \u001b[90m━━━━━━━━━━━━━━━━━━━━━━━━━━━━━━━━━━━━━━━━\u001b[0m \u001b[32m12.1/12.1 MB\u001b[0m \u001b[31m12.0 MB/s\u001b[0m eta \u001b[36m0:00:00\u001b[0m\n",
            "\u001b[2K   \u001b[90m━━━━━━━━━━━━━━━━━━━━━━━━━━━━━━━━━━━━━━━━\u001b[0m \u001b[32m1.1/1.1 MB\u001b[0m \u001b[31m22.1 MB/s\u001b[0m eta \u001b[36m0:00:00\u001b[0m\n",
            "\u001b[2K   \u001b[90m━━━━━━━━━━━━━━━━━━━━━━━━━━━━━━━━━━━━━━━━\u001b[0m \u001b[32m6.9/6.9 MB\u001b[0m \u001b[31m24.7 MB/s\u001b[0m eta \u001b[36m0:00:00\u001b[0m\n",
            "\u001b[2K   \u001b[90m━━━━━━━━━━━━━━━━━━━━━━━━━━━━━━━━━━━━━━━━\u001b[0m \u001b[32m165.8/165.8 kB\u001b[0m \u001b[31m8.6 MB/s\u001b[0m eta \u001b[36m0:00:00\u001b[0m\n",
            "\u001b[2K   \u001b[90m━━━━━━━━━━━━━━━━━━━━━━━━━━━━━━━━━━━━━━━━\u001b[0m \u001b[32m43.5/43.5 kB\u001b[0m \u001b[31m2.1 MB/s\u001b[0m eta \u001b[36m0:00:00\u001b[0m\n",
            "\u001b[2K   \u001b[90m━━━━━━━━━━━━━━━━━━━━━━━━━━━━━━━━━━━━━━━━\u001b[0m \u001b[32m79.1/79.1 kB\u001b[0m \u001b[31m4.8 MB/s\u001b[0m eta \u001b[36m0:00:00\u001b[0m\n",
            "\u001b[?25h\u001b[31mERROR: pip's dependency resolver does not currently take into account all the packages that are installed. This behaviour is the source of the following dependency conflicts.\n",
            "cudf-cu12 24.10.1 requires pandas<2.2.3dev0,>=2.0, but you have pandas 1.5.3 which is incompatible.\n",
            "google-colab 1.0.0 requires pandas==2.2.2, but you have pandas 1.5.3 which is incompatible.\n",
            "grpcio-status 1.62.3 requires protobuf>=4.21.6, but you have protobuf 3.20.3 which is incompatible.\n",
            "mizani 0.13.0 requires pandas>=2.2.0, but you have pandas 1.5.3 which is incompatible.\n",
            "plotnine 0.14.1 requires pandas>=2.2.0, but you have pandas 1.5.3 which is incompatible.\n",
            "xarray 2024.10.0 requires pandas>=2.1, but you have pandas 1.5.3 which is incompatible.\u001b[0m\u001b[31m\n",
            "\u001b[0m"
          ]
        }
      ],
      "source": [
        "\n",
        "!pip install streamlit==1.20.0 --quiet\n",
        "!pip install pyngrok --quiet"
      ]
    },
    {
      "cell_type": "markdown",
      "source": [
        "Streamlit、およびngrokをインポートしておきます。  \n",
        "エラーが発生する場合は、「ランタイム」→「ランタイムを再起動」によりランタイムを再起動し、再びコードセルを上から順に実行しましょう。"
      ],
      "metadata": {
        "id": "husUkYy5dhZ4"
      }
    },
    {
      "cell_type": "code",
      "source": [
        "import streamlit as st\n",
        "from pyngrok import ngrok"
      ],
      "metadata": {
        "id": "OsHcq-kaDwIi"
      },
      "execution_count": 2,
      "outputs": []
    },
    {
      "cell_type": "markdown",
      "source": [
        "## ●シンプルなアプリの作成\n",
        "タイトルおよび表を表示するシンプルなアプリを作成し、ファイルに保存します。  \n",
        "表の表示には、pandasのDataFrameを使います。  \n",
        "`%%writefile`のマジックコマンドを使って、以下のコードを「app.py」に書き込みます。"
      ],
      "metadata": {
        "id": "5fOtVgU5duPe"
      }
    },
    {
      "cell_type": "code",
      "source": [
        "%%writefile app.py\n",
        "# 以下を「app.py」に書き込み\n",
        "import streamlit as st\n",
        "import pandas as pd\n",
        "\n",
        "st.title(\"Hello Streamlit!\")\n",
        "\n",
        "df = pd.DataFrame({\"数学\": [67, 76, 92, 81,57],\n",
        "                   \"英語\": [45, 81, 93, 48, 77],\n",
        "                   \"理科\": [65, 68, 77, 83, 91]})\n",
        "st.dataframe(df)"
      ],
      "metadata": {
        "id": "Ntj_BU3bnJli",
        "outputId": "3c422428-c24e-4a3c-f7a3-6f48bf5a5338",
        "colab": {
          "base_uri": "https://localhost:8080/"
        }
      },
      "execution_count": 3,
      "outputs": [
        {
          "output_type": "stream",
          "name": "stdout",
          "text": [
            "Writing app.py\n"
          ]
        }
      ]
    },
    {
      "cell_type": "markdown",
      "source": [
        "## ●Authtokenの設定\n",
        "ngrokで接続するために必要な「Authtoken」を設定します。  \n",
        "以下のコードの、  \n",
        "`!ngrok authtoken YourAuthtoken`  \n",
        "における  \n",
        "`YourAuthtoken`の箇所を、自分のAuthtokenに置き換えます。  \n",
        "Authtokenは、ngrokのサイトに登録すれば取得することができます。  \n",
        "https://ngrok.com/\n"
      ],
      "metadata": {
        "id": "j03EsJaHh4KK"
      }
    },
    {
      "cell_type": "code",
      "source": [
        "!ngrok authtoken 2pISSJaL4NqBKTnyKFOHa5QSQiy_2CiwJeFixqYjHYPF4HTuR"
      ],
      "metadata": {
        "id": "mTfmORj2Dn7-",
        "outputId": "714dd8c5-88ad-4e68-e184-5f88a4092445",
        "colab": {
          "base_uri": "https://localhost:8080/"
        }
      },
      "execution_count": 4,
      "outputs": [
        {
          "output_type": "stream",
          "name": "stdout",
          "text": [
            "Authtoken saved to configuration file: /root/.config/ngrok/ngrok.yml\n"
          ]
        }
      ]
    },
    {
      "cell_type": "markdown",
      "source": [],
      "metadata": {
        "id": "02MKUzOmLy5Y"
      }
    },
    {
      "cell_type": "markdown",
      "source": [
        "## ●アプリの起動と動作確認\n",
        "streamlitの`run`コマンドでアプリを起動します。\n"
      ],
      "metadata": {
        "id": "CnobL05MkjB1"
      }
    },
    {
      "cell_type": "code",
      "source": [
        "!streamlit run app.py &>/dev/null&  # 「&>/dev/null&」により、出力を非表示にしてバックグランドジョブとして実行"
      ],
      "metadata": {
        "id": "W0jXlMXWK0vi"
      },
      "execution_count": 5,
      "outputs": []
    },
    {
      "cell_type": "markdown",
      "source": [
        "ngrokのプロセスを終了した上で、新たにポートを指定して接続します。  \n",
        "接続の結果、urlを取得できます。  \n",
        "ngrokの無料プランでは同時に1つのプロセスしか動かせないので、エラーが発生した場合は「ランタイム」→「セッションの管理」で不要なGoogle Colabのセッションを修了しましょう。  "
      ],
      "metadata": {
        "id": "W5RLCJ7Sl2x_"
      }
    },
    {
      "cell_type": "code",
      "source": [
        "ngrok.kill()  # プロセスの修了\n",
        "url = ngrok.connect(\"8501\").public_url  # 接続"
      ],
      "metadata": {
        "id": "v23ymsdLK3x7",
        "outputId": "404191a0-18ff-4df8-a128-2ac13a1f7611",
        "colab": {
          "base_uri": "https://localhost:8080/"
        }
      },
      "execution_count": 6,
      "outputs": [
        {
          "output_type": "stream",
          "name": "stderr",
          "text": [
            "INFO:pyngrok.ngrok:Opening tunnel named: http-8501-a4b28b31-6d97-4d8a-87f5-092424a926b7\n",
            "2024-11-24 12:50:22.116 INFO    pyngrok.ngrok: Opening tunnel named: http-8501-a4b28b31-6d97-4d8a-87f5-092424a926b7\n",
            "INFO:pyngrok.process.ngrok:t=2024-11-24T12:50:22+0000 lvl=info msg=\"no configuration paths supplied\"\n",
            "2024-11-24 12:50:22.155 INFO    pyngrok.process.ngrok: t=2024-11-24T12:50:22+0000 lvl=info msg=\"no configuration paths supplied\"\n",
            "INFO:pyngrok.process.ngrok:t=2024-11-24T12:50:22+0000 lvl=info msg=\"using configuration at default config path\" path=/root/.config/ngrok/ngrok.yml\n",
            "2024-11-24 12:50:22.159 INFO    pyngrok.process.ngrok: t=2024-11-24T12:50:22+0000 lvl=info msg=\"using configuration at default config path\" path=/root/.config/ngrok/ngrok.yml\n",
            "INFO:pyngrok.process.ngrok:t=2024-11-24T12:50:22+0000 lvl=info msg=\"open config file\" path=/root/.config/ngrok/ngrok.yml err=nil\n",
            "2024-11-24 12:50:22.161 INFO    pyngrok.process.ngrok: t=2024-11-24T12:50:22+0000 lvl=info msg=\"open config file\" path=/root/.config/ngrok/ngrok.yml err=nil\n",
            "INFO:pyngrok.process.ngrok:t=2024-11-24T12:50:22+0000 lvl=info msg=\"starting web service\" obj=web addr=127.0.0.1:4040 allow_hosts=[]\n",
            "2024-11-24 12:50:22.213 INFO    pyngrok.process.ngrok: t=2024-11-24T12:50:22+0000 lvl=info msg=\"starting web service\" obj=web addr=127.0.0.1:4040 allow_hosts=[]\n",
            "INFO:pyngrok.process.ngrok:t=2024-11-24T12:50:22+0000 lvl=info msg=\"client session established\" obj=tunnels.session\n",
            "2024-11-24 12:50:22.345 INFO    pyngrok.process.ngrok: t=2024-11-24T12:50:22+0000 lvl=info msg=\"client session established\" obj=tunnels.session\n",
            "INFO:pyngrok.process.ngrok:t=2024-11-24T12:50:22+0000 lvl=info msg=\"tunnel session started\" obj=tunnels.session\n",
            "2024-11-24 12:50:22.351 INFO    pyngrok.process.ngrok: t=2024-11-24T12:50:22+0000 lvl=info msg=\"tunnel session started\" obj=tunnels.session\n",
            "INFO:pyngrok.process.ngrok:t=2024-11-24T12:50:22+0000 lvl=info msg=start pg=/api/tunnels id=0662d58ffb2db78b\n",
            "2024-11-24 12:50:22.370 INFO    pyngrok.process.ngrok: t=2024-11-24T12:50:22+0000 lvl=info msg=start pg=/api/tunnels id=0662d58ffb2db78b\n",
            "INFO:pyngrok.process.ngrok:t=2024-11-24T12:50:22+0000 lvl=info msg=end pg=/api/tunnels id=0662d58ffb2db78b status=200 dur=446.445µs\n",
            "2024-11-24 12:50:22.378 INFO    pyngrok.process.ngrok: t=2024-11-24T12:50:22+0000 lvl=info msg=end pg=/api/tunnels id=0662d58ffb2db78b status=200 dur=446.445µs\n",
            "INFO:pyngrok.process.ngrok:t=2024-11-24T12:50:22+0000 lvl=info msg=start pg=/api/tunnels id=5fe2c0bd4265d88e\n",
            "2024-11-24 12:50:22.386 INFO    pyngrok.process.ngrok: t=2024-11-24T12:50:22+0000 lvl=info msg=start pg=/api/tunnels id=5fe2c0bd4265d88e\n",
            "INFO:pyngrok.process.ngrok:t=2024-11-24T12:50:22+0000 lvl=info msg=end pg=/api/tunnels id=5fe2c0bd4265d88e status=200 dur=127.498µs\n",
            "2024-11-24 12:50:22.391 INFO    pyngrok.process.ngrok: t=2024-11-24T12:50:22+0000 lvl=info msg=end pg=/api/tunnels id=5fe2c0bd4265d88e status=200 dur=127.498µs\n",
            "INFO:pyngrok.process.ngrok:t=2024-11-24T12:50:22+0000 lvl=info msg=start pg=/api/tunnels id=daec94a234d2d8bf\n",
            "2024-11-24 12:50:22.396 INFO    pyngrok.process.ngrok: t=2024-11-24T12:50:22+0000 lvl=info msg=start pg=/api/tunnels id=daec94a234d2d8bf\n",
            "INFO:pyngrok.process.ngrok:t=2024-11-24T12:50:22+0000 lvl=info msg=\"started tunnel\" obj=tunnels name=http-8501-a4b28b31-6d97-4d8a-87f5-092424a926b7 addr=http://localhost:8501 url=https://8176-34-48-78-30.ngrok-free.app\n",
            "2024-11-24 12:50:22.416 INFO    pyngrok.process.ngrok: t=2024-11-24T12:50:22+0000 lvl=info msg=\"started tunnel\" obj=tunnels name=http-8501-a4b28b31-6d97-4d8a-87f5-092424a926b7 addr=http://localhost:8501 url=https://8176-34-48-78-30.ngrok-free.app\n",
            "INFO:pyngrok.process.ngrok:t=2024-11-24T12:50:22+0000 lvl=info msg=end pg=/api/tunnels id=daec94a234d2d8bf status=201 dur=46.091396ms\n",
            "2024-11-24 12:50:22.419 INFO    pyngrok.process.ngrok: t=2024-11-24T12:50:22+0000 lvl=info msg=end pg=/api/tunnels id=daec94a234d2d8bf status=201 dur=46.091396ms\n"
          ]
        }
      ]
    },
    {
      "cell_type": "markdown",
      "source": [
        "urlを表示し、リンク先でアプリが動作することを確認します。"
      ],
      "metadata": {
        "id": "NZ0O_pNan57t"
      }
    },
    {
      "cell_type": "code",
      "source": [
        "print(url)"
      ],
      "metadata": {
        "id": "MIY7ositLAXC",
        "outputId": "cd5ce37b-ccfe-46d3-9289-374d94072aca",
        "colab": {
          "base_uri": "https://localhost:8080/"
        }
      },
      "execution_count": 7,
      "outputs": [
        {
          "output_type": "stream",
          "name": "stdout",
          "text": [
            "https://8176-34-48-78-30.ngrok-free.app\n"
          ]
        }
      ]
    }
  ]
}